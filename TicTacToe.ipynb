{
 "cells": [
  {
   "cell_type": "code",
   "execution_count": 33,
   "metadata": {
    "scrolled": true
   },
   "outputs": [
    {
     "name": "stdout",
     "output_type": "stream",
     "text": [
      "Board of size 4 created. Get 3 in a row to win!\n",
      "-----------------\n",
      "|   |   |   |   |\n",
      "-----------------\n",
      "|   |   |   |   |\n",
      "-----------------\n",
      "|   |   |   |   |\n",
      "-----------------\n",
      "|   |   |   |   |\n",
      "-----------------\n",
      "\n",
      "-----------------\n",
      "| x |   |   |   |\n",
      "-----------------\n",
      "|   |   |   |   |\n",
      "-----------------\n",
      "|   |   |   |   |\n",
      "-----------------\n",
      "|   |   |   |   |\n",
      "-----------------\n",
      "\n",
      "-----------------\n",
      "| x |   |   |   |\n",
      "-----------------\n",
      "|   | x |   |   |\n",
      "-----------------\n",
      "|   |   |   |   |\n",
      "-----------------\n",
      "|   |   |   |   |\n",
      "-----------------\n",
      "\n",
      "Player x wins!\n",
      "-----------------\n",
      "| x |   |   |   |\n",
      "-----------------\n",
      "|   | x |   |   |\n",
      "-----------------\n",
      "|   |   | x |   |\n",
      "-----------------\n",
      "|   |   |   |   |\n",
      "-----------------\n",
      "\n"
     ]
    }
   ],
   "source": [
    "class Game(object):\n",
    "    \n",
    "    def __init__(self, size=4, win=3):\n",
    "        # Initiate a game with two players, call the create board method\n",
    "        self.P1 = \"x\"\n",
    "        self.P2 = \"o\"\n",
    "        self.turn = 0\n",
    "        self.size = size\n",
    "        self.win = win\n",
    "        self.board = self.board_setup()\n",
    "        print(\"Board of size %i created. Get %i in a row to win!\" % (size, win))\n",
    "\n",
    "    def __str__(self):\n",
    "        # return the board when object is printed\n",
    "        for row in range(self.size):\n",
    "            print(\"-\"*self.size*4+\"-\")\n",
    "            for cell in range(self.size):\n",
    "                print(\"| %s \" % self.board[row][cell], end=\"\")\n",
    "            print(\"|\")\n",
    "        print(\"-\"*self.size*4+\"-\")\n",
    "        return \"\"\n",
    "    \n",
    "    def board_setup(self):\n",
    "        self.board = []\n",
    "        for row in range(self.size):\n",
    "            row = []\n",
    "            for cell in range(self.size):\n",
    "                row.append(\" \")\n",
    "            self.board.append(row)\n",
    "        return self.board\n",
    "    \n",
    "    def player(self):\n",
    "        # determine who's turn it is (what symbol is to be used)\n",
    "        if self.turn % 2 == 0:\n",
    "            return \"x\"\n",
    "        else:\n",
    "            return \"o\"\n",
    "    \n",
    "    def next_turn(self):\n",
    "        self.turn += 1\n",
    "\n",
    "    def place(self, xy):\n",
    "        # place a XO on field\n",
    "        self.board[xy[0]][xy[1]] = self.player()\n",
    "        self.check_win(xy)\n",
    "        \n",
    "    def check_win(self, xy):\n",
    "        \n",
    "        directions = [\n",
    "            [0,1],\n",
    "            [1,0],\n",
    "            [1,1],\n",
    "            [1,-1]\n",
    "        ]\n",
    "        \n",
    "        # check pos - win_size to pos + win_size, if win score is reached, call victory.\n",
    "        for direction in directions:\n",
    "            streak = 0\n",
    "            cell = [x*-self.win for x in direction]\n",
    "            for step in range(self.win*2-1):\n",
    "                cell[0] += direction[0]\n",
    "                cell[1] += direction[1]\n",
    "                if self.board[cell[0]][cell[1]] == self.player():\n",
    "                    streak += 1\n",
    "                    if streak == self.win:\n",
    "                        self.victory()\n",
    "                        break\n",
    "                else:\n",
    "                    streak = 0\n",
    "\n",
    "    def victory(self):\n",
    "        print(\"Player %s wins!\" % self.player())\n",
    "  \n",
    "g = Game()\n",
    "print(g)\n",
    "g.place((0,0))\n",
    "print(g)\n",
    "g.place((1,1))\n",
    "print(g)\n",
    "g.place((2,2))\n",
    "print(g)"
   ]
  },
  {
   "cell_type": "code",
   "execution_count": 146,
   "metadata": {},
   "outputs": [
    {
     "name": "stdout",
     "output_type": "stream",
     "text": [
      "[[' ', ' ', 'x', ' '], [' ', ' ', 'x', ' '], [' ', ' ', 'x', ' '], [' ', ' ', 'x', ' ']]\n"
     ]
    }
   ],
   "source": [
    "z = [[\"1\",\"2\",\"3\"],[\"4\",\"5\",\"6\"],[\"7\",\"8\",\"9\"]]\n",
    "z = [[\" \"]*4]\n",
    "z[0][2] = \"x\"\n",
    "print(z)"
   ]
  },
  {
   "cell_type": "code",
   "execution_count": 111,
   "metadata": {
    "collapsed": true
   },
   "outputs": [],
   "source": [
    "g.board[1][2] = \"b\""
   ]
  },
  {
   "cell_type": "code",
   "execution_count": 167,
   "metadata": {},
   "outputs": [
    {
     "name": "stdout",
     "output_type": "stream",
     "text": [
      "None\n"
     ]
    }
   ],
   "source": [
    "print(g.board)"
   ]
  },
  {
   "cell_type": "code",
   "execution_count": null,
   "metadata": {
    "collapsed": true
   },
   "outputs": [],
   "source": []
  }
 ],
 "metadata": {
  "kernelspec": {
   "display_name": "Python 3",
   "language": "python",
   "name": "python3"
  },
  "language_info": {
   "codemirror_mode": {
    "name": "ipython",
    "version": 3
   },
   "file_extension": ".py",
   "mimetype": "text/x-python",
   "name": "python",
   "nbconvert_exporter": "python",
   "pygments_lexer": "ipython3",
   "version": "3.6.1"
  }
 },
 "nbformat": 4,
 "nbformat_minor": 2
}
